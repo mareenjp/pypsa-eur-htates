{
 "cells": [
  {
   "cell_type": "markdown",
   "id": "c678fb4b",
   "metadata": {},
   "source": [
    "## Create new nodal cost and nodal energy balance files"
   ]
  },
  {
   "cell_type": "markdown",
   "id": "809b5099",
   "metadata": {},
   "source": [
    "Due to a bug in the PyPSA-Eur cope, the nodal CSV files do not have assigned nodes for geothermal heat generation and direct geothermal heat utilisation. So we create new nodak cost and nodal energy balance files with this code, based on the network NC files."
   ]
  },
  {
   "cell_type": "code",
   "execution_count": null,
   "id": "8d320a54",
   "metadata": {},
   "outputs": [
    {
     "name": "stderr",
     "output_type": "stream",
     "text": [
      "INFO:pypsa.io:Imported network base_s_12__3H_2050.nc has buses, carriers, generators, global_constraints, lines, links, loads, storage_units, stores\n"
     ]
    },
    {
     "name": "stdout",
     "output_type": "stream",
     "text": [
      " Patching 12 buses with missing or empty location.\n",
      " Patching 139 Load entries with missing/empty location.\n",
      " Patching 5 StorageUnit entries with missing/empty location.\n",
      " Patching 158 Generator entries with missing/empty location.\n",
      " Patching 100 Store entries with missing/empty location.\n"
     ]
    },
    {
     "name": "stderr",
     "output_type": "stream",
     "text": [
      "INFO:pypsa.io:Imported network base_s_16__3H_2030-htates-2.nc has buses, carriers, generators, global_constraints, lines, links, loads, storage_units, stores\n"
     ]
    },
    {
     "name": "stdout",
     "output_type": "stream",
     "text": [
      " Patching 16 buses with missing or empty location.\n",
      " Patching 186 Load entries with missing/empty location.\n",
      " Patching 5 StorageUnit entries with missing/empty location.\n",
      " Patching 218 Generator entries with missing/empty location.\n",
      " Patching 130 Store entries with missing/empty location.\n"
     ]
    },
    {
     "name": "stderr",
     "output_type": "stream",
     "text": [
      "INFO:pypsa.io:Imported network base_s_16__3H_2030-htates-3.nc has buses, carriers, generators, global_constraints, lines, links, loads, storage_units, stores\n"
     ]
    },
    {
     "name": "stdout",
     "output_type": "stream",
     "text": [
      " Patching 16 buses with missing or empty location.\n",
      " Patching 186 Load entries with missing/empty location.\n",
      " Patching 5 StorageUnit entries with missing/empty location.\n",
      " Patching 218 Generator entries with missing/empty location.\n",
      " Patching 130 Store entries with missing/empty location.\n"
     ]
    },
    {
     "name": "stderr",
     "output_type": "stream",
     "text": [
      "INFO:pypsa.io:Imported network base_s_16__3H_2030-htates.nc has buses, carriers, generators, global_constraints, lines, links, loads, storage_units, stores\n"
     ]
    },
    {
     "name": "stdout",
     "output_type": "stream",
     "text": [
      " Patching 16 buses with missing or empty location.\n",
      " Patching 186 Load entries with missing/empty location.\n",
      " Patching 5 StorageUnit entries with missing/empty location.\n",
      " Patching 218 Generator entries with missing/empty location.\n",
      " Patching 130 Store entries with missing/empty location.\n"
     ]
    },
    {
     "name": "stderr",
     "output_type": "stream",
     "text": [
      "INFO:pypsa.io:Imported network base_s_16__3H_2030-nohtates-2.nc has buses, carriers, generators, global_constraints, lines, links, loads, storage_units, stores\n"
     ]
    },
    {
     "name": "stdout",
     "output_type": "stream",
     "text": [
      " Patching 16 buses with missing or empty location.\n",
      " Patching 186 Load entries with missing/empty location.\n",
      " Patching 5 StorageUnit entries with missing/empty location.\n",
      " Patching 218 Generator entries with missing/empty location.\n",
      " Patching 123 Store entries with missing/empty location.\n"
     ]
    },
    {
     "name": "stderr",
     "output_type": "stream",
     "text": [
      "INFO:pypsa.io:Imported network base_s_16__3H_2030-nohtates-3.nc has buses, carriers, generators, global_constraints, lines, links, loads, storage_units, stores\n"
     ]
    },
    {
     "name": "stdout",
     "output_type": "stream",
     "text": [
      " Patching 16 buses with missing or empty location.\n",
      " Patching 186 Load entries with missing/empty location.\n",
      " Patching 5 StorageUnit entries with missing/empty location.\n",
      " Patching 218 Generator entries with missing/empty location.\n",
      " Patching 123 Store entries with missing/empty location.\n"
     ]
    },
    {
     "name": "stderr",
     "output_type": "stream",
     "text": [
      "INFO:pypsa.io:Imported network base_s_16__3H_2030-nohtates.nc has buses, carriers, generators, global_constraints, lines, links, loads, storage_units, stores\n"
     ]
    },
    {
     "name": "stdout",
     "output_type": "stream",
     "text": [
      " Patching 16 buses with missing or empty location.\n",
      " Patching 186 Load entries with missing/empty location.\n",
      " Patching 5 StorageUnit entries with missing/empty location.\n",
      " Patching 218 Generator entries with missing/empty location.\n",
      " Patching 123 Store entries with missing/empty location.\n"
     ]
    },
    {
     "name": "stderr",
     "output_type": "stream",
     "text": [
      "INFO:pypsa.io:Imported network base_s_16__3H_2050-dh125.nc has buses, carriers, generators, global_constraints, lines, links, loads, storage_units, stores\n"
     ]
    },
    {
     "name": "stdout",
     "output_type": "stream",
     "text": [
      " Patching 16 buses with missing or empty location.\n",
      " Patching 183 Load entries with missing/empty location.\n",
      " Patching 5 StorageUnit entries with missing/empty location.\n",
      " Patching 199 Generator entries with missing/empty location.\n",
      " Patching 130 Store entries with missing/empty location.\n"
     ]
    },
    {
     "name": "stderr",
     "output_type": "stream",
     "text": [
      "INFO:pypsa.io:Imported network base_s_16__3H_2050-dh75.nc has buses, carriers, generators, global_constraints, lines, links, loads, storage_units, stores\n"
     ]
    },
    {
     "name": "stdout",
     "output_type": "stream",
     "text": [
      " Patching 16 buses with missing or empty location.\n",
      " Patching 183 Load entries with missing/empty location.\n",
      " Patching 5 StorageUnit entries with missing/empty location.\n",
      " Patching 199 Generator entries with missing/empty location.\n",
      " Patching 129 Store entries with missing/empty location.\n"
     ]
    },
    {
     "name": "stderr",
     "output_type": "stream",
     "text": [
      "INFO:pypsa.io:Imported network base_s_16__3H_2050-f125.nc has buses, carriers, generators, global_constraints, lines, links, loads, storage_units, stores\n"
     ]
    },
    {
     "name": "stdout",
     "output_type": "stream",
     "text": [
      " Patching 16 buses with missing or empty location.\n",
      " Patching 183 Load entries with missing/empty location.\n",
      " Patching 5 StorageUnit entries with missing/empty location.\n",
      " Patching 199 Generator entries with missing/empty location.\n",
      " Patching 129 Store entries with missing/empty location.\n"
     ]
    },
    {
     "name": "stderr",
     "output_type": "stream",
     "text": [
      "INFO:pypsa.io:Imported network base_s_16__3H_2050-f75.nc has buses, carriers, generators, global_constraints, lines, links, loads, storage_units, stores\n"
     ]
    },
    {
     "name": "stdout",
     "output_type": "stream",
     "text": [
      " Patching 16 buses with missing or empty location.\n",
      " Patching 183 Load entries with missing/empty location.\n",
      " Patching 5 StorageUnit entries with missing/empty location.\n",
      " Patching 199 Generator entries with missing/empty location.\n",
      " Patching 129 Store entries with missing/empty location.\n"
     ]
    },
    {
     "name": "stderr",
     "output_type": "stream",
     "text": [
      "INFO:pypsa.io:Imported network base_s_16__3H_2050-htates-2.nc has buses, carriers, generators, global_constraints, lines, links, loads, storage_units, stores\n"
     ]
    },
    {
     "name": "stdout",
     "output_type": "stream",
     "text": [
      " Patching 16 buses with missing or empty location.\n",
      " Patching 183 Load entries with missing/empty location.\n",
      " Patching 5 StorageUnit entries with missing/empty location.\n",
      " Patching 199 Generator entries with missing/empty location.\n",
      " Patching 129 Store entries with missing/empty location.\n"
     ]
    },
    {
     "name": "stderr",
     "output_type": "stream",
     "text": [
      "INFO:pypsa.io:Imported network base_s_16__3H_2050-htates-3.nc has buses, carriers, generators, global_constraints, lines, links, loads, storage_units, stores\n"
     ]
    },
    {
     "name": "stdout",
     "output_type": "stream",
     "text": [
      " Patching 16 buses with missing or empty location.\n",
      " Patching 183 Load entries with missing/empty location.\n",
      " Patching 5 StorageUnit entries with missing/empty location.\n",
      " Patching 199 Generator entries with missing/empty location.\n",
      " Patching 129 Store entries with missing/empty location.\n"
     ]
    },
    {
     "name": "stderr",
     "output_type": "stream",
     "text": [
      "INFO:pypsa.io:Imported network base_s_16__3H_2050-htates.nc has buses, carriers, generators, global_constraints, lines, links, loads, storage_units, stores\n"
     ]
    },
    {
     "name": "stdout",
     "output_type": "stream",
     "text": [
      " Patching 16 buses with missing or empty location.\n",
      " Patching 183 Load entries with missing/empty location.\n",
      " Patching 5 StorageUnit entries with missing/empty location.\n",
      " Patching 199 Generator entries with missing/empty location.\n",
      " Patching 129 Store entries with missing/empty location.\n"
     ]
    },
    {
     "name": "stderr",
     "output_type": "stream",
     "text": [
      "INFO:pypsa.io:Imported network base_s_16__3H_2050-i125.nc has buses, carriers, generators, global_constraints, lines, links, loads, storage_units, stores\n"
     ]
    },
    {
     "name": "stdout",
     "output_type": "stream",
     "text": [
      " Patching 16 buses with missing or empty location.\n",
      " Patching 183 Load entries with missing/empty location.\n",
      " Patching 5 StorageUnit entries with missing/empty location.\n",
      " Patching 199 Generator entries with missing/empty location.\n",
      " Patching 122 Store entries with missing/empty location.\n"
     ]
    },
    {
     "name": "stderr",
     "output_type": "stream",
     "text": [
      "INFO:pypsa.io:Imported network base_s_16__3H_2050-i75.nc has buses, carriers, generators, global_constraints, lines, links, loads, storage_units, stores\n"
     ]
    },
    {
     "name": "stdout",
     "output_type": "stream",
     "text": [
      " Patching 16 buses with missing or empty location.\n",
      " Patching 183 Load entries with missing/empty location.\n",
      " Patching 5 StorageUnit entries with missing/empty location.\n",
      " Patching 199 Generator entries with missing/empty location.\n",
      " Patching 122 Store entries with missing/empty location.\n"
     ]
    },
    {
     "name": "stderr",
     "output_type": "stream",
     "text": [
      "INFO:pypsa.io:Imported network base_s_16__3H_2050-lt125.nc has buses, carriers, generators, global_constraints, lines, links, loads, storage_units, stores\n"
     ]
    },
    {
     "name": "stdout",
     "output_type": "stream",
     "text": [
      " Patching 16 buses with missing or empty location.\n",
      " Patching 183 Load entries with missing/empty location.\n",
      " Patching 5 StorageUnit entries with missing/empty location.\n",
      " Patching 199 Generator entries with missing/empty location.\n",
      " Patching 129 Store entries with missing/empty location.\n"
     ]
    },
    {
     "name": "stderr",
     "output_type": "stream",
     "text": [
      "INFO:pypsa.io:Imported network base_s_16__3H_2050-lt75.nc has buses, carriers, generators, global_constraints, lines, links, loads, storage_units, stores\n"
     ]
    },
    {
     "name": "stdout",
     "output_type": "stream",
     "text": [
      " Patching 16 buses with missing or empty location.\n",
      " Patching 183 Load entries with missing/empty location.\n",
      " Patching 5 StorageUnit entries with missing/empty location.\n",
      " Patching 199 Generator entries with missing/empty location.\n",
      " Patching 129 Store entries with missing/empty location.\n"
     ]
    },
    {
     "name": "stderr",
     "output_type": "stream",
     "text": [
      "INFO:pypsa.io:Imported network base_s_16__3H_2050-m125.nc has buses, carriers, generators, global_constraints, lines, links, loads, storage_units, stores\n"
     ]
    },
    {
     "name": "stdout",
     "output_type": "stream",
     "text": [
      " Patching 16 buses with missing or empty location.\n",
      " Patching 183 Load entries with missing/empty location.\n",
      " Patching 5 StorageUnit entries with missing/empty location.\n",
      " Patching 199 Generator entries with missing/empty location.\n",
      " Patching 129 Store entries with missing/empty location.\n"
     ]
    },
    {
     "name": "stderr",
     "output_type": "stream",
     "text": [
      "INFO:pypsa.io:Imported network base_s_16__3H_2050-m75.nc has buses, carriers, generators, global_constraints, lines, links, loads, storage_units, stores\n"
     ]
    },
    {
     "name": "stdout",
     "output_type": "stream",
     "text": [
      " Patching 16 buses with missing or empty location.\n",
      " Patching 183 Load entries with missing/empty location.\n",
      " Patching 5 StorageUnit entries with missing/empty location.\n",
      " Patching 199 Generator entries with missing/empty location.\n",
      " Patching 129 Store entries with missing/empty location.\n"
     ]
    },
    {
     "name": "stderr",
     "output_type": "stream",
     "text": [
      "INFO:pypsa.io:Imported network base_s_16__3H_2050-nohtates-2.nc has buses, carriers, generators, global_constraints, lines, links, loads, storage_units, stores\n"
     ]
    },
    {
     "name": "stdout",
     "output_type": "stream",
     "text": [
      " Patching 16 buses with missing or empty location.\n",
      " Patching 183 Load entries with missing/empty location.\n",
      " Patching 5 StorageUnit entries with missing/empty location.\n",
      " Patching 199 Generator entries with missing/empty location.\n",
      " Patching 122 Store entries with missing/empty location.\n"
     ]
    },
    {
     "name": "stderr",
     "output_type": "stream",
     "text": [
      "INFO:pypsa.io:Imported network base_s_16__3H_2050-nohtates-3.nc has buses, carriers, generators, global_constraints, lines, links, loads, storage_units, stores\n"
     ]
    },
    {
     "name": "stdout",
     "output_type": "stream",
     "text": [
      " Patching 16 buses with missing or empty location.\n",
      " Patching 183 Load entries with missing/empty location.\n",
      " Patching 5 StorageUnit entries with missing/empty location.\n",
      " Patching 199 Generator entries with missing/empty location.\n",
      " Patching 122 Store entries with missing/empty location.\n"
     ]
    },
    {
     "name": "stderr",
     "output_type": "stream",
     "text": [
      "INFO:pypsa.io:Imported network base_s_16__3H_2050-nohtates.nc has buses, carriers, generators, global_constraints, lines, links, loads, storage_units, stores\n"
     ]
    },
    {
     "name": "stdout",
     "output_type": "stream",
     "text": [
      " Patching 16 buses with missing or empty location.\n",
      " Patching 183 Load entries with missing/empty location.\n",
      " Patching 5 StorageUnit entries with missing/empty location.\n",
      " Patching 199 Generator entries with missing/empty location.\n",
      " Patching 122 Store entries with missing/empty location.\n"
     ]
    },
    {
     "name": "stderr",
     "output_type": "stream",
     "text": [
      "INFO:pypsa.io:Imported network base_s_16__3H_2050-yellow.nc has buses, carriers, generators, global_constraints, lines, links, loads, storage_units, stores\n"
     ]
    },
    {
     "name": "stdout",
     "output_type": "stream",
     "text": [
      " Patching 16 buses with missing or empty location.\n",
      " Patching 183 Load entries with missing/empty location.\n",
      " Patching 5 StorageUnit entries with missing/empty location.\n",
      " Patching 199 Generator entries with missing/empty location.\n",
      " Patching 132 Store entries with missing/empty location.\n"
     ]
    },
    {
     "name": "stderr",
     "output_type": "stream",
     "text": [
      "INFO:pypsa.io:Imported network base_s_20__3H_2050.nc has buses, carriers, generators, global_constraints, lines, links, loads, storage_units, stores\n"
     ]
    },
    {
     "name": "stdout",
     "output_type": "stream",
     "text": [
      " Patching 20 buses with missing or empty location.\n",
      " Patching 227 Load entries with missing/empty location.\n",
      " Patching 6 StorageUnit entries with missing/empty location.\n",
      " Patching 242 Generator entries with missing/empty location.\n",
      " Patching 160 Store entries with missing/empty location.\n"
     ]
    },
    {
     "name": "stderr",
     "output_type": "stream",
     "text": [
      "INFO:pypsa.io:Imported network base_s_60__3H_2050-geo2.nc has buses, carriers, generators, global_constraints, lines, links, loads, storage_units, stores\n"
     ]
    },
    {
     "name": "stdout",
     "output_type": "stream",
     "text": [
      " Patching 58 buses with missing or empty location.\n",
      " Patching 665 Load entries with missing/empty location.\n",
      " Patching 40 StorageUnit entries with missing/empty location.\n",
      " Patching 684 Generator entries with missing/empty location.\n",
      " Patching 479 Store entries with missing/empty location.\n"
     ]
    },
    {
     "name": "stderr",
     "output_type": "stream",
     "text": [
      "INFO:pypsa.io:Imported network base_s_60__3H_2050-geo3.nc has buses, carriers, generators, global_constraints, lines, links, loads, storage_units, stores\n"
     ]
    },
    {
     "name": "stdout",
     "output_type": "stream",
     "text": [
      " Patching 58 buses with missing or empty location.\n",
      " Patching 665 Load entries with missing/empty location.\n",
      " Patching 40 StorageUnit entries with missing/empty location.\n",
      " Patching 684 Generator entries with missing/empty location.\n",
      " Patching 479 Store entries with missing/empty location.\n"
     ]
    }
   ],
   "source": [
    "import pypsa\n",
    "import pandas as pd\n",
    "from pathlib import Path\n",
    "\n",
    "output_folder = Path(r\"C:\\Users\\Johannes\\Documents\\final-results\\new_cost_csv\")\n",
    "output_folder.mkdir(parents=True, exist_ok=True)\n",
    "\n",
    "# Fix missing bus locations\n",
    "def patch_assign_locations(n):\n",
    "    # 1: Patch bus locations\n",
    "    missing = n.buses[\"location\"].isna() | (n.buses[\"location\"] == \"\")\n",
    "    if missing.any():\n",
    "        print(f\" Patching {missing.sum()} buses with missing or empty location.\")\n",
    "        n.buses.loc[missing, \"location\"] = (\n",
    "            n.buses.loc[missing].index.to_series()\n",
    "            .str.extract(r\"^([A-Z]{2}\\d+)\")[0]\n",
    "        )\n",
    "\n",
    "    # 2: Patch one-port components (generators, stores, loads, etc.)\n",
    "    for c in n.iterate_components(n.one_port_components):\n",
    "        df = c.df\n",
    "        if \"location\" not in df.columns:\n",
    "            df[\"location\"] = \"\"  # Create column if missing\n",
    "        is_missing = df[\"location\"].isna() | (df[\"location\"] == \"\")\n",
    "        if is_missing.any():\n",
    "            print(f\" Patching {is_missing.sum()} {c.name} entries with missing/empty location.\")\n",
    "            df.loc[is_missing, \"location\"] = df.loc[is_missing, \"bus\"].map(n.buses[\"location\"])\n",
    "\n",
    "    # 3: Patch branch components (links and lines)\n",
    "    for c in n.iterate_components(n.branch_components):\n",
    "        df = c.df\n",
    "        if \"location\" not in df.columns:\n",
    "            df[\"location\"] = \"\"  # Create column if missing\n",
    "        bus_cols = df.filter(regex=\"^bus\")\n",
    "        locs = bus_cols.apply(lambda col: col.map(n.buses[\"location\"]))\n",
    "        df[\"location\"] = locs.bfill(axis=1).iloc[:, 0]\n",
    "        still_missing = df[\"location\"].isna() | (df[\"location\"] == \"\")\n",
    "        if still_missing.any():\n",
    "            print(f\" {still_missing.sum()} {c.name} entries still have missing/empty location.\")\n",
    "\n",
    "# Calculate nodal costs\n",
    "def calculate_nodal_costs(n):\n",
    "    grouper = [\"location\", \"carrier\"]\n",
    "    costs = pd.concat({\n",
    "        \"capital\": n.statistics.capex(groupby=grouper),\n",
    "        \"marginal\": n.statistics.opex(groupby=grouper),\n",
    "    })\n",
    "    costs.index.names = [\"cost\", \"component\", \"location\", \"carrier\"]\n",
    "    return costs\n",
    "\n",
    "# Calculate nodal energy balance\n",
    "def calculate_nodal_energy_balance(n: pypsa.Network) -> pd.Series:\n",
    "    \"\"\"\n",
    "    Calculate the regional energy balances (positive values for supply, negative values for consumption) for each technology carrier and bus carrier based on the location bus attribute.\n",
    "\n",
    "    Returns\n",
    "    -------\n",
    "    pd.Series\n",
    "        MultiIndex Series with levels [\"component\", \"carrier\", \"location\", \"bus_carrier\"]\n",
    "\n",
    "    Examples\n",
    "    --------\n",
    "    >>> eb = calculate_nodal_energy_balance(n)\n",
    "    >>> eb.xs((\"AC\", \"BE0 0\"), level=[\"bus_carrier\", \"location\"])\n",
    "    \"\"\"\n",
    "    return n.statistics.energy_balance(groupby=[\"carrier\", \"location\", \"bus_carrier\"])\n",
    "\n",
    "# Save as new CSV files\n",
    "network_files = list(Path(r\"C:\\Users\\Johannes\\Documents\\final-results\\networks\").glob(\"*.nc\"))\n",
    "for net_file in network_files:\n",
    "    n = pypsa.Network(net_file)\n",
    "    patch_assign_locations(n)\n",
    "    for comp_name in [\"generators\", \"links\", \"stores\", \"loads\"]:\n",
    "        df = getattr(n, comp_name)\n",
    "        if \"location\" in df.columns:\n",
    "            missing = df[df[\"location\"].isna() | (df[\"location\"] == \"\")]\n",
    "            if not missing.empty:\n",
    "                print(f\"\\n {comp_name.upper()} with missing/empty location:\")\n",
    "                print(missing[[\"carrier\", \"bus\", \"location\"]].head())\n",
    "\n",
    "    n.statistics.set_parameters(nice_names=False, drop_zero=False)\n",
    "\n",
    "    nodal_costs = calculate_nodal_costs(n)\n",
    "    energy_balance = calculate_nodal_energy_balance(n)\n",
    "    stem = net_file.stem  # for example \"base_s_16__3H_2050-htates\"\n",
    "    # Remove the \"base_\" prefix to match the original naming convention\n",
    "    if stem.startswith(\"base_\"):\n",
    "        stem = stem.replace(\"base_\", \"\")\n",
    "    # Save files in a new folder\n",
    "    output_file = Path(r\"C:\\Users\\Johannes\\Documents\\final-results\\new_cost_csv\") / f\"nodal_costs_{stem}.csv\"\n",
    "    nodal_costs.to_csv(output_file)\n",
    "\n",
    "    output_file2 = Path(r\"C:\\Users\\Johannes\\Documents\\final-results\\new_cost_csv\") / f\"{net_file.stem}_energy_balance.csv\"\n",
    "    energy_balance.to_csv(output_file2)\n"
   ]
  },
  {
   "cell_type": "markdown",
   "id": "ba1585da",
   "metadata": {},
   "source": [
    "## Create heat balance plots based on the plot_balance_timeseries.py script"
   ]
  },
  {
   "cell_type": "markdown",
   "id": "cf92dc63",
   "metadata": {},
   "source": [
    "New plots are made to ensure HT-ATES is always plotted with colours that stand out. This was also necessary to include geothermal heat in the heat balance plots."
   ]
  },
  {
   "cell_type": "code",
   "execution_count": null,
   "id": "dc9ac6a6",
   "metadata": {},
   "outputs": [
    {
     "name": "stderr",
     "output_type": "stream",
     "text": [
      "INFO:pypsa.io:Imported network base_s_16__3H_2050-htates.nc has buses, carriers, generators, global_constraints, lines, links, loads, storage_units, stores\n",
      "Plotting groups: 100%|██████████| 10/10 [00:05<00:00,  1.85it/s]\n"
     ]
    }
   ],
   "source": [
    "import os\n",
    "import yaml\n",
    "import pypsa\n",
    "import numpy as np\n",
    "import pandas as pd\n",
    "import matplotlib.pyplot as plt\n",
    "import matplotlib.dates as mdates\n",
    "from tqdm import tqdm\n",
    "from functools import partial\n",
    "from multiprocessing import Pool\n",
    "\n",
    "# Load pypsa network\n",
    "os.chdir(r\"C:\\Users\\Johannes\\Documents\\final-results\\networks\")\n",
    "n = pypsa.Network(\"base_s_16__3H_2050-htates.nc\")\n",
    "\n",
    "# Load configuration file\n",
    "with open(r\"C:\\Users\\Johannes\\PypsaProject\\pypsa-eur-htates\\results\\batch_1207\\2050-htates\\configs\\config.base_s_16__3H_2050.yaml\", encoding=\"windows-1252\") as f:\n",
    "    full_config = yaml.safe_load(f)\n",
    "\n",
    "config = full_config[\"plotting\"][\"balance_timeseries\"]\n",
    "\n",
    "# Add missing geothermal and HT-ATES-related carriers to the heat group\n",
    "additional_heat_carriers = [\n",
    "    \"urban central ht_ates charger\",\n",
    "    \"urban central ht_ates discharger\",\n",
    "    \"urban central geothermal heat pump\",\n",
    "    \"urban central geothermal heat direct utilisation\"\n",
    "]\n",
    "\n",
    "# Avoid duplicates\n",
    "existing_heat_group = config[\"carrier_groups\"].get(\"heat\", [])\n",
    "for carrier in additional_heat_carriers:\n",
    "    if carrier not in existing_heat_group:\n",
    "        existing_heat_group.append(carrier)\n",
    "\n",
    "config[\"carrier_groups\"][\"heat\"] = existing_heat_group\n",
    "\n",
    "# Also add to full list of carriers\n",
    "for carrier in additional_heat_carriers:\n",
    "    if carrier not in config[\"carriers\"]:\n",
    "        config[\"carriers\"].append(carrier)\n",
    "\n",
    "# Filter for only NL nodes\n",
    "nl_buses = n.buses[n.buses.index.str.startswith(\"NL\")].index\n",
    "n.remove(\"Load\", n.loads[~n.loads.bus.isin(nl_buses)].index)\n",
    "n.remove(\"Store\", n.stores[~n.stores.bus.isin(nl_buses)].index)\n",
    "n.remove(\"Generator\", n.generators[~n.generators.bus.isin(nl_buses)].index)\n",
    "n.remove(\"Link\", n.links[~n.links.bus0.isin(nl_buses) & ~n.links.bus1.isin(nl_buses)].index)\n",
    "n.remove(\"Bus\", n.buses[~n.buses.index.isin(nl_buses)].index)\n",
    "n.remove(\"StorageUnit\", n.storage_units[~n.storage_units.bus.isin(nl_buses)].index)\n",
    "\n",
    "# Plotting setup \n",
    "plt.style.use(\"bmh\")\n",
    "output_dir = \"outputs\"\n",
    "os.makedirs(output_dir, exist_ok=True)\n",
    "\n",
    "# Plotting functions\n",
    "def plot_stacked_area_steplike(ax, df, colors={}):\n",
    "    if isinstance(colors, pd.Series):\n",
    "        colors = colors.to_dict()\n",
    "    df_cum = df.cumsum(axis=1)\n",
    "    previous = np.zeros_like(df_cum.iloc[:, 0].values)\n",
    "    for col in df_cum.columns:\n",
    "        ax.fill_between(\n",
    "            df_cum.index,\n",
    "            previous,\n",
    "            df_cum[col],\n",
    "            step=\"pre\",\n",
    "            linewidth=0,\n",
    "            color=colors.get(col, \"grey\"),\n",
    "            label=col,\n",
    "        )\n",
    "        previous = df_cum[col].values\n",
    "\n",
    "def setup_time_axis(ax, timespan):\n",
    "    if timespan > pd.Timedelta(weeks=5):\n",
    "        ax.xaxis.set_major_locator(mdates.MonthLocator(bymonthday=1))\n",
    "        ax.xaxis.set_major_formatter(mdates.DateFormatter(\"%e\\n%b\"))\n",
    "        ax.xaxis.set_minor_locator(mdates.MonthLocator(bymonthday=15))\n",
    "        ax.xaxis.set_minor_formatter(mdates.DateFormatter(\"%e\"))\n",
    "    else:\n",
    "        ax.xaxis.set_major_locator(mdates.WeekdayLocator(byweekday=mdates.MONDAY))\n",
    "        ax.xaxis.set_major_formatter(mdates.DateFormatter(\"%e\\n%b\"))\n",
    "        ax.xaxis.set_minor_locator(mdates.DayLocator())\n",
    "        ax.xaxis.set_minor_formatter(mdates.DateFormatter(\"%e\"))\n",
    "    ax.tick_params(axis=\"x\", which=\"minor\", labelcolor=\"grey\")\n",
    "\n",
    "def plot_energy_balance_timeseries(\n",
    "    df,\n",
    "    time=None,\n",
    "    ylim=None,\n",
    "    resample=None,\n",
    "    rename={},\n",
    "    preferred_order=[],\n",
    "    ylabel=\"\",\n",
    "    colors={},\n",
    "    max_threshold=0.0,\n",
    "    mean_threshold=0.0,\n",
    "    directory=\"\",\n",
    "):\n",
    "    if time is not None:\n",
    "        df = df.loc[time]\n",
    "    exempt_from_other = {\n",
    "        \"urban central ht_ates charger\",\n",
    "        \"urban central ht_ates discharger\",\n",
    "        \"urban central geothermal heat pump\",\n",
    "        \"rural heat\"\n",
    "    }\n",
    "\n",
    "    techs_below_threshold = [\n",
    "        tech for tech in df.columns\n",
    "        if tech not in exempt_from_other and\n",
    "        (df[tech].abs().max() < max_threshold) and\n",
    "        (df[tech].abs().mean() < mean_threshold)\n",
    "    ]\n",
    "    if techs_below_threshold:\n",
    "        rename.update({tech: \"other\" for tech in techs_below_threshold})\n",
    "        colors[\"other\"] = \"grey\"\n",
    "\n",
    "    rename.update({\n",
    "        \"urban central ht_ates charger\": \"urban central HT-ATES charger\",\n",
    "        \"urban central ht_ates discharger\": \"urban central HT-ATES discharger\",\n",
    "        \"urban central geothermal heat pump\": \"urban central geothermal heat pump\"\n",
    "    })\n",
    "\n",
    "    if rename:\n",
    "        df = df.T.groupby(df.columns.map(lambda a: rename.get(a, a))).sum().T\n",
    "\n",
    "    if resample is not None:\n",
    "        df = df.resample(\"1h\").ffill().resample(resample).mean()\n",
    "\n",
    "    order = (df / df.max()).var().sort_values().index\n",
    "    if preferred_order:\n",
    "        order = pd.Index(preferred_order).intersection(order).append(order.difference(preferred_order))\n",
    "    df = df.loc[:, order]\n",
    "\n",
    "    pos = df.where(df > 0).fillna(0.0)\n",
    "    neg = df.where(df < 0).fillna(0.0)\n",
    "\n",
    "    fig, ax = plt.subplots(figsize=(10, 4.5), layout=\"constrained\")\n",
    "    fig.patch.set_facecolor(\"white\")\n",
    "    ax.set_facecolor(\"white\")\n",
    "    plot_stacked_area_steplike(ax, pos, colors)\n",
    "    plot_stacked_area_steplike(ax, neg, colors)\n",
    "\n",
    "    plt.xlim((df.index[0], df.index[-1]))\n",
    "    setup_time_axis(ax, df.index[-1] - df.index[0])\n",
    "\n",
    "    ax.grid(axis=\"y\")\n",
    "    ax.axhline(0, color=\"grey\", linewidth=0.5)\n",
    "\n",
    "    if ylim is None:\n",
    "        ylim = np.ceil(max(-neg.sum(axis=1).min(), pos.sum(axis=1).max()) / 50) * 50\n",
    "    plt.ylim([-ylim, ylim])\n",
    "\n",
    "    plt.ylabel(f\"{ylabel} balance [GW]\")\n",
    "    handles, labels = ax.get_legend_handles_labels()\n",
    "    half = int(len(handles) / 2)\n",
    "    legend = fig.legend(handles[:half], labels[:half], loc=\"outside right upper\", fontsize=11)\n",
    "    legend.get_frame().set_facecolor(\"white\")  # Set white background\n",
    "    legend.get_frame().set_edgecolor(\"grey\") \n",
    "\n",
    "    if resample is None:\n",
    "        if isinstance(time, pd.DatetimeIndex) and len(time) > 0:\n",
    "            time_str = time[0].strftime(\"%Y-%m\")\n",
    "        else:\n",
    "            time_str = \"default\"\n",
    "        resample = f\"native-{time_str}\"\n",
    "    fn = f\"ts-balance-{ylabel.replace(' ', '_')}-{resample}.pdf\"\n",
    "    plt.savefig(os.path.join(directory, fn))\n",
    "    plt.close()\n",
    "\n",
    "def process_carrier(group_item, balance, months, colors, config, output_dir):\n",
    "    group, carriers = group_item\n",
    "    if not isinstance(carriers, list):\n",
    "        carriers = [carriers]\n",
    "\n",
    "    mask = balance.index.get_level_values(\"bus_carrier\").isin(carriers)\n",
    "    df = balance[mask].groupby(\"carrier\").sum().div(1e3).T\n",
    "\n",
    "    kwargs = dict(\n",
    "        ylabel=group,\n",
    "        colors=colors,\n",
    "        max_threshold=config[\"max_threshold\"],\n",
    "        mean_threshold=config[\"mean_threshold\"],\n",
    "        directory=output_dir,\n",
    "    )\n",
    "\n",
    "    if config[\"annual\"]:\n",
    "        plot_energy_balance_timeseries(df, resample=config[\"annual_resolution\"], **kwargs)\n",
    "\n",
    "# Load energy balance \n",
    "balance = n.statistics.energy_balance(aggregate_time=False, nice_names=False)\n",
    "\n",
    "# Colors \n",
    "n.carriers[\"color\"] = n.carriers[\"color\"].replace(\"\", \"grey\")\n",
    "colors = n.carriers.color.copy()\n",
    "colors[\"urban central HT-ATES charger\"] = \"#531ae4\"\n",
    "colors[\"urban central HT-ATES discharger\"] = \"#ff0004\"\n",
    "\n",
    "# Groups \n",
    "groups = config[\"carrier_groups\"].copy()\n",
    "groups.update({c: [c] for c in config[\"carriers\"]})\n",
    "available_carriers = set(n.buses.carrier.unique())\n",
    "groups = {k: v for k, v in groups.items() if not set(v).isdisjoint(available_carriers)}\n",
    "\n",
    "# Time slices \n",
    "snapshots = n.snapshots\n",
    "months = snapshots.to_series().groupby(snapshots.to_series().dt.to_period(\"M\")).apply(lambda x: x.index)\n",
    "\n",
    "# Run and save new files\n",
    "for group_item in tqdm(groups.items(), desc=\"Plotting groups\"):\n",
    "    process_carrier(group_item, balance, months, colors, config, output_dir)\n"
   ]
  }
 ],
 "metadata": {
  "kernelspec": {
   "display_name": "pypsa-eur-clean",
   "language": "python",
   "name": "python3"
  },
  "language_info": {
   "codemirror_mode": {
    "name": "ipython",
    "version": 3
   },
   "file_extension": ".py",
   "mimetype": "text/x-python",
   "name": "python",
   "nbconvert_exporter": "python",
   "pygments_lexer": "ipython3",
   "version": "3.12.10"
  }
 },
 "nbformat": 4,
 "nbformat_minor": 5
}
